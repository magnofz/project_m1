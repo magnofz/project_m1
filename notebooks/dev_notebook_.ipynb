{
 "cells": [
  {
   "cell_type": "markdown",
   "id": "ce7d9907",
   "metadata": {},
   "source": [
    "### dev_notebook_\n",
    "\n",
    "- Your development environment..."
   ]
  },
  {
   "cell_type": "code",
   "execution_count": 1,
   "id": "34f39f9b",
   "metadata": {},
   "outputs": [],
   "source": [
    "import pandas as pd\n",
    "import requests\n",
    "import json\n",
    "import duckdb\n",
    "import re\n",
    "from shapely.geometry import Point\n",
    "import geopandas as gpd\n",
    "import numpy as np\n",
    "from fuzzywuzzy import process\n",
    "from tqdm import tqdm\n",
    "\n",
    "\n",
    "\n",
    "# import numpy as np"
   ]
  },
  {
   "cell_type": "code",
   "execution_count": 2,
   "id": "623f6c10",
   "metadata": {},
   "outputs": [],
   "source": [
    "def to_mercator(lat, long):\n",
    "    # transform latitude/longitude data in degrees to pseudo-mercator coordinates in metres\n",
    "    c = gpd.GeoSeries([Point(lat, long)], crs=4326)\n",
    "    c = c.to_crs(3857)\n",
    "    return c\n",
    "\n",
    "def distance_meters(lat_start, long_start, lat_finish, long_finish):\n",
    "    # return the distance in metres between to latitude/longitude pair point in degrees (i.e.: 40.392436 / -3.6994487)\n",
    "    start = to_mercator(lat_start, long_start)\n",
    "    finish = to_mercator(lat_finish, long_finish)\n",
    "    return start.distance(finish)"
   ]
  },
  {
   "cell_type": "code",
   "execution_count": 3,
   "id": "e5cb2931",
   "metadata": {},
   "outputs": [
    {
     "data": {
      "text/plain": [
       "'https://datos.madrid.es/egob/catalogo/300356-0-monumentos-ciudad-madrid.json'"
      ]
     },
     "execution_count": 3,
     "metadata": {},
     "output_type": "execute_result"
    }
   ],
   "source": [
    "# URL / ENDPOINT\n",
    "base_url = 'https://datos.madrid.es/egob/'\n",
    "resource = 'catalogo/300356-0-monumentos-ciudad-madrid.json'\n",
    "\n",
    "endpoint = base_url + resource\n",
    "endpoint"
   ]
  },
  {
   "cell_type": "code",
   "execution_count": 4,
   "id": "daea516b",
   "metadata": {},
   "outputs": [],
   "source": [
    "# MONUMENTOS MADRID - API Request\n",
    "monuments = requests.get(endpoint).json()"
   ]
  },
  {
   "cell_type": "code",
   "execution_count": 5,
   "id": "f866af21",
   "metadata": {},
   "outputs": [],
   "source": [
    "dict_monuments = {'monument' : [monuments['@graph'][t]['title'] for t in range(len(monuments['@graph']))],\n",
    "                  'address_mon' : [monuments['@graph'][a]['address']['street-address'] for a in range(len(monuments['@graph']))]}\n",
    "\n",
    "dict_monuments['lat1'] = []\n",
    "dict_monuments['lon1'] = []\n",
    "\n",
    "for i in range(len(monuments['@graph'])):\n",
    "    try:\n",
    "        dict_monuments['lat1'].append(monuments['@graph'][i]['location']['latitude'])\n",
    "        dict_monuments['lon1'].append(monuments['@graph'][i]['location']['longitude'])\n",
    "    except:\n",
    "        dict_monuments['lat1'].append(None)\n",
    "        dict_monuments['lon1'].append(None)\n",
    "        \n",
    "\n",
    "#Failed list comprehensions due to lack of 'location' key in some items:\n",
    "# lat = [bicimad['@graph'][l]['location']['latitude'] for l in range(len(bicimad['@graph']))]\n",
    "# lon = [bicimad['@graph'][k]['location']['longitude'] for k in range(len(bicimad['@graph']))]"
   ]
  },
  {
   "cell_type": "code",
   "execution_count": 6,
   "id": "9b144f05",
   "metadata": {},
   "outputs": [],
   "source": [
    "df_monuments = pd.DataFrame(dict_monuments)\n",
    "df_monuments = df_monuments[df_monuments['lat1'].notna()]\n",
    "df_monuments = df_monuments[df_monuments['monument'] == 'A los Abuelos']"
   ]
  },
  {
   "cell_type": "code",
   "execution_count": 7,
   "id": "06a69870",
   "metadata": {},
   "outputs": [],
   "source": [
    "choices = dict_monuments['monument']"
   ]
  },
  {
   "cell_type": "code",
   "execution_count": 8,
   "id": "f8be5c06",
   "metadata": {},
   "outputs": [
    {
     "data": {
      "text/plain": [
       "'A los Abuelos'"
      ]
     },
     "execution_count": 8,
     "metadata": {},
     "output_type": "execute_result"
    }
   ],
   "source": [
    "process.extractOne(\"abuelos\", choices)[0]"
   ]
  },
  {
   "cell_type": "code",
   "execution_count": 9,
   "id": "fe1c6b2d",
   "metadata": {},
   "outputs": [],
   "source": [
    "# Connexion duckdb\n",
    "\n",
    "con = duckdb.connect(database='../data/bicimad_jup.db', read_only=False)\n",
    "df_bicimad = con.execute('SELECT id, name, address, dock_bikes, \"geometry.coordinates\" FROM bicimad_stations').fetch_df()"
   ]
  },
  {
   "cell_type": "code",
   "execution_count": 10,
   "id": "2e59f5e3",
   "metadata": {},
   "outputs": [],
   "source": [
    "df_bicimad = df_bicimad[df_bicimad['dock_bikes'] > 0].reset_index()"
   ]
  },
  {
   "cell_type": "code",
   "execution_count": 11,
   "id": "fdba6602",
   "metadata": {},
   "outputs": [],
   "source": [
    "regex_loc = '[^, \\[\\]]+'"
   ]
  },
  {
   "cell_type": "code",
   "execution_count": 12,
   "id": "306f9682",
   "metadata": {},
   "outputs": [],
   "source": [
    "bici_loc = [(float(re.findall(regex_loc, df_bicimad['geometry.coordinates'][i])[1]),\n",
    "             float(re.findall(regex_loc, df_bicimad['geometry.coordinates'][i])[0])) for i in range(len(df_bicimad))]\n",
    "\n",
    "df_bicimad = df_bicimad.join(pd.DataFrame(bici_loc, columns=['lat2', 'lon2']))\n",
    "df_bicimad.drop(columns='index', inplace=True)"
   ]
  },
  {
   "cell_type": "code",
   "execution_count": 13,
   "id": "ccf65ea6",
   "metadata": {},
   "outputs": [],
   "source": [
    "full_df = df_monuments.merge(df_bicimad, how='cross')"
   ]
  },
  {
   "cell_type": "code",
   "execution_count": 14,
   "id": "d4e86e20",
   "metadata": {},
   "outputs": [
    {
     "name": "stdout",
     "output_type": "stream",
     "text": [
      "CPU times: total: 0 ns\n",
      "Wall time: 5.56 ms\n"
     ]
    }
   ],
   "source": [
    "%%time\n",
    "full_df['pit'] = full_df.apply(lambda x : (x['lat1'] - x['lat2'])**2 + (x['lon1'] - x['lon2'])**2 , axis=1)"
   ]
  },
  {
   "cell_type": "code",
   "execution_count": 15,
   "id": "d701a3cb",
   "metadata": {},
   "outputs": [],
   "source": [
    "bici_min = pd.DataFrame(full_df.groupby(['monument', 'address_mon','lat1','lon1'])['pit'].min())"
   ]
  },
  {
   "cell_type": "code",
   "execution_count": 16,
   "id": "162c35fc",
   "metadata": {},
   "outputs": [],
   "source": [
    "bici_min = bici_min.reset_index()\n",
    "mon_bici = bici_min.merge(full_df, how='left').sort_values(by=['monument'])"
   ]
  },
  {
   "cell_type": "code",
   "execution_count": 17,
   "id": "b5250e51",
   "metadata": {},
   "outputs": [
    {
     "name": "stdout",
     "output_type": "stream",
     "text": [
      "CPU times: total: 15.6 ms\n",
      "Wall time: 24.7 ms\n"
     ]
    }
   ],
   "source": [
    "%%time\n",
    "mon_bici['Distance (m)'] = mon_bici.apply(lambda x : distance_meters(x['lat1'], x['lon1'], x['lat2'], x['lon2']), axis=1)"
   ]
  },
  {
   "cell_type": "code",
   "execution_count": 18,
   "id": "4079fc27",
   "metadata": {},
   "outputs": [],
   "source": [
    "mon_bici['Walking time (min)'] = mon_bici.apply(lambda x : x['Distance (m)'] / 1000 * 12.5, axis=1)\n",
    "mon_bici['Distance (m)'], mon_bici['Walking time (min)'] = mon_bici['Distance (m)'].astype(int), mon_bici['Walking time (min)'].astype(int)"
   ]
  },
  {
   "cell_type": "code",
   "execution_count": 34,
   "id": "816ac2e6",
   "metadata": {},
   "outputs": [],
   "source": [
    "# URL / ENDPOINT\n",
    "base_url_b = 'https://openapi.emtmadrid.es/v2/mobilitylabs/user/login/'\n",
    "resource_b = 'catalogo/300356-0-monumentos-ciudad-madrid.json'\n",
    "\n",
    "# endpoint_b = base_url + resource\n",
    "# endpoint_b\n",
    "\n",
    "headers = {'email': 'magnofz@gmail.com', 'password' : 'Emt179357'}"
   ]
  },
  {
   "cell_type": "code",
   "execution_count": 35,
   "id": "52aed626",
   "metadata": {},
   "outputs": [],
   "source": [
    "test = requests.get(base_url_b, headers=headers).json()"
   ]
  },
  {
   "cell_type": "code",
   "execution_count": 30,
   "id": "7367c5fa",
   "metadata": {},
   "outputs": [],
   "source": [
    "test = requests.get(base_url_b).json()"
   ]
  },
  {
   "cell_type": "code",
   "execution_count": 36,
   "id": "3e894d0a",
   "metadata": {},
   "outputs": [
    {
     "data": {
      "text/plain": [
       "{'code': '01',\n",
       " 'description': 'Token 7a703eb6-e903-4df6-a74e-6709ff528fc5 extend  into control-cache Data recovered  OK, (lapsed: 45 millsecs)',\n",
       " 'datetime': '2023-04-14T08:37:39.633185',\n",
       " 'data': [{'XClientId': '09141f1a-bf02-4e23-80ee-e7fa7ea819d2',\n",
       "   'nameApp': 'OPENAPI MobilityLabs',\n",
       "   'updatedAt': '2023-04-13T17:30:10.4100000',\n",
       "   'userName': 'magnofz86',\n",
       "   'lastUpdate': {'$date': 1681454254274},\n",
       "   'idUser': 'c87a8410-9cd9-4ac7-b993-1e725b289693',\n",
       "   'priv': 'U',\n",
       "   'tokenSecExpiration': 86399,\n",
       "   'email': 'magnofz@gmail.com',\n",
       "   'tokenDteExpiration': {'$date': 1681547853274},\n",
       "   'flagAdvise': True,\n",
       "   'accessToken': '7a703eb6-e903-4df6-a74e-6709ff528fc5',\n",
       "   'apiCounter': {'current': 2,\n",
       "    'dailyUse': 20000,\n",
       "    'owner': 0,\n",
       "    'licenceUse': 'Please mention EMT Madrid MobilityLabs as data source. Thank you and enjoy!',\n",
       "    'aboutUses': 'If you need to extend the daily use of this API, please, register your App in Mobilitylabs and use your own X-ClientId and  passKey instead of generic login (more info in https://mobilitylabs.emtmadrid.es/doc/new-app and https://apidocs.emtmadrid.es/#api-Block_1_User_identity-login)'},\n",
       "   'username': 'magnofz86'}]}"
      ]
     },
     "execution_count": 36,
     "metadata": {},
     "output_type": "execute_result"
    }
   ],
   "source": [
    "test"
   ]
  },
  {
   "cell_type": "code",
   "execution_count": null,
   "id": "75b95953",
   "metadata": {},
   "outputs": [],
   "source": []
  },
  {
   "cell_type": "code",
   "execution_count": null,
   "id": "74cb0ee3",
   "metadata": {},
   "outputs": [],
   "source": []
  }
 ],
 "metadata": {
  "kernelspec": {
   "display_name": "Python [conda env:pm1_env]",
   "language": "python",
   "name": "conda-env-pm1_env-py"
  },
  "language_info": {
   "codemirror_mode": {
    "name": "ipython",
    "version": 3
   },
   "file_extension": ".py",
   "mimetype": "text/x-python",
   "name": "python",
   "nbconvert_exporter": "python",
   "pygments_lexer": "ipython3",
   "version": "3.11.2"
  }
 },
 "nbformat": 4,
 "nbformat_minor": 5
}
